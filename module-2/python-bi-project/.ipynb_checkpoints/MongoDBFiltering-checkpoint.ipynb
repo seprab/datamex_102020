{
 "cells": [
  {
   "cell_type": "code",
   "execution_count": 1,
   "metadata": {},
   "outputs": [],
   "source": [
    "#Libraries\n",
    "import pymongo\n",
    "import re\n",
    "import math \n",
    "import pandas as pd\n",
    "import numpy as np\n",
    "import requests\n",
    "from bs4 import BeautifulSoup"
   ]
  },
  {
   "cell_type": "code",
   "execution_count": 2,
   "metadata": {},
   "outputs": [],
   "source": [
    "cliente = pymongo.MongoClient()\n",
    "companies_DB = cliente.companies\n",
    "companies_collection = companies_DB.companies"
   ]
  },
  {
   "cell_type": "code",
   "execution_count": 3,
   "metadata": {},
   "outputs": [
    {
     "data": {
      "text/plain": [
       "18801"
      ]
     },
     "execution_count": 3,
     "metadata": {},
     "output_type": "execute_result"
    }
   ],
   "source": [
    "#Numero de documentos totales (empresas)\n",
    "len(list(companies_collection.find()))"
   ]
  },
  {
   "cell_type": "code",
   "execution_count": 4,
   "metadata": {},
   "outputs": [],
   "source": [
    "#Lista de tags relacionados a mi empresa\n",
    "tags_busqueda = r\"motor|bike|bicycle|mechanics|workshop|repair\""
   ]
  },
  {
   "cell_type": "code",
   "execution_count": 5,
   "metadata": {},
   "outputs": [],
   "source": [
    "'''\n",
    "Genero una busqueda por texto para encontrar coincidencias en los tags que relacionan mi idea de empresa.\n",
    "Para ello, debo hacer uso de regex. Por ultimo genero un DataFrame con solo la info que me interesa.\n",
    "'''\n",
    "filter={'$or': [\n",
    "        {'tag_list': re.compile(tags_busqueda)},\n",
    "        {'description': re.compile(tags_busqueda)},\n",
    "        {'overview': re.compile(tags_busqueda)}\n",
    "]}\n",
    "project={\n",
    "    '_id': 0, \n",
    "    'name': 1, \n",
    "    'homepage_url': 1, \n",
    "    'founded_year': 1, \n",
    "    'description': 1, \n",
    "    'overview': 1, \n",
    "    'competitions': 1, \n",
    "    'offices': 1, \n",
    "    'partners': 1, \n",
    "    'category_code': 1\n",
    "}\n",
    "\n",
    "rel_tags = companies_collection.find(\n",
    "  filter=filter,\n",
    "  projection=project\n",
    ")"
   ]
  },
  {
   "cell_type": "code",
   "execution_count": 6,
   "metadata": {},
   "outputs": [
    {
     "data": {
      "text/plain": [
       "(172, 9)"
      ]
     },
     "execution_count": 6,
     "metadata": {},
     "output_type": "execute_result"
    }
   ],
   "source": [
    "coincidencias = pd.DataFrame(list(rel_tags))\n",
    "coincidencias.shape"
   ]
  },
  {
   "cell_type": "code",
   "execution_count": 7,
   "metadata": {},
   "outputs": [
    {
     "data": {
      "text/html": [
       "<div>\n",
       "<style scoped>\n",
       "    .dataframe tbody tr th:only-of-type {\n",
       "        vertical-align: middle;\n",
       "    }\n",
       "\n",
       "    .dataframe tbody tr th {\n",
       "        vertical-align: top;\n",
       "    }\n",
       "\n",
       "    .dataframe thead th {\n",
       "        text-align: right;\n",
       "    }\n",
       "</style>\n",
       "<table border=\"1\" class=\"dataframe\">\n",
       "  <thead>\n",
       "    <tr style=\"text-align: right;\">\n",
       "      <th></th>\n",
       "      <th>name</th>\n",
       "      <th>homepage_url</th>\n",
       "      <th>category_code</th>\n",
       "      <th>founded_year</th>\n",
       "      <th>description</th>\n",
       "      <th>overview</th>\n",
       "      <th>competitions</th>\n",
       "      <th>offices</th>\n",
       "      <th>partners</th>\n",
       "    </tr>\n",
       "  </thead>\n",
       "  <tbody>\n",
       "    <tr>\n",
       "      <th>0</th>\n",
       "      <td>Yelp</td>\n",
       "      <td>http://yelp.com</td>\n",
       "      <td>search</td>\n",
       "      <td>2004.0</td>\n",
       "      <td>Local search and review site</td>\n",
       "      <td>&lt;p&gt;Yelp (NYSE: YELP) connects people with grea...</td>\n",
       "      <td>[{'competitor': {'name': 'Insider Pages', 'per...</td>\n",
       "      <td>[{'description': '', 'address1': '706 Mission ...</td>\n",
       "      <td>[]</td>\n",
       "    </tr>\n",
       "    <tr>\n",
       "      <th>1</th>\n",
       "      <td>Grockit</td>\n",
       "      <td>http://grockit.com</td>\n",
       "      <td>social</td>\n",
       "      <td>2006.0</td>\n",
       "      <td>Online social learning games</td>\n",
       "      <td>&lt;p&gt;Grockit is a pioneering online social learn...</td>\n",
       "      <td>[{'competitor': {'name': 'PrepMe', 'permalink'...</td>\n",
       "      <td>[{'description': '', 'address1': '500 Third St...</td>\n",
       "      <td>[]</td>\n",
       "    </tr>\n",
       "    <tr>\n",
       "      <th>2</th>\n",
       "      <td>OnForce</td>\n",
       "      <td>http://www.onforce.com</td>\n",
       "      <td>enterprise</td>\n",
       "      <td>2003.0</td>\n",
       "      <td>#1 Source for On-site Tech Talent</td>\n",
       "      <td>&lt;p&gt;OnForce is the #1 source for on-site tech t...</td>\n",
       "      <td>[{'competitor': {'name': 'Work Market', 'perma...</td>\n",
       "      <td>[{'description': '', 'address1': '10 Maguire R...</td>\n",
       "      <td>[]</td>\n",
       "    </tr>\n",
       "    <tr>\n",
       "      <th>3</th>\n",
       "      <td>ThemBid</td>\n",
       "      <td>http://www.thembid.com</td>\n",
       "      <td>ecommerce</td>\n",
       "      <td>2007.0</td>\n",
       "      <td>None</td>\n",
       "      <td>&lt;p&gt;ThemBid is a free online marketplace that g...</td>\n",
       "      <td>[]</td>\n",
       "      <td>[{'description': None, 'address1': '8500 Utica...</td>\n",
       "      <td>[]</td>\n",
       "    </tr>\n",
       "    <tr>\n",
       "      <th>4</th>\n",
       "      <td>Fixya</td>\n",
       "      <td>http://www.fixya.com</td>\n",
       "      <td>web</td>\n",
       "      <td>2013.0</td>\n",
       "      <td>Tech Support Community</td>\n",
       "      <td>&lt;p&gt;Fixya offers an online tech support communi...</td>\n",
       "      <td>[{'competitor': {'name': 'Kluster', 'permalink...</td>\n",
       "      <td>[{'description': '', 'address1': 'One Franklin...</td>\n",
       "      <td>[]</td>\n",
       "    </tr>\n",
       "  </tbody>\n",
       "</table>\n",
       "</div>"
      ],
      "text/plain": [
       "      name            homepage_url category_code  founded_year  \\\n",
       "0     Yelp         http://yelp.com        search        2004.0   \n",
       "1  Grockit      http://grockit.com        social        2006.0   \n",
       "2  OnForce  http://www.onforce.com    enterprise        2003.0   \n",
       "3  ThemBid  http://www.thembid.com     ecommerce        2007.0   \n",
       "4    Fixya    http://www.fixya.com           web        2013.0   \n",
       "\n",
       "                         description  \\\n",
       "0       Local search and review site   \n",
       "1       Online social learning games   \n",
       "2  #1 Source for On-site Tech Talent   \n",
       "3                               None   \n",
       "4             Tech Support Community   \n",
       "\n",
       "                                            overview  \\\n",
       "0  <p>Yelp (NYSE: YELP) connects people with grea...   \n",
       "1  <p>Grockit is a pioneering online social learn...   \n",
       "2  <p>OnForce is the #1 source for on-site tech t...   \n",
       "3  <p>ThemBid is a free online marketplace that g...   \n",
       "4  <p>Fixya offers an online tech support communi...   \n",
       "\n",
       "                                        competitions  \\\n",
       "0  [{'competitor': {'name': 'Insider Pages', 'per...   \n",
       "1  [{'competitor': {'name': 'PrepMe', 'permalink'...   \n",
       "2  [{'competitor': {'name': 'Work Market', 'perma...   \n",
       "3                                                 []   \n",
       "4  [{'competitor': {'name': 'Kluster', 'permalink...   \n",
       "\n",
       "                                             offices partners  \n",
       "0  [{'description': '', 'address1': '706 Mission ...       []  \n",
       "1  [{'description': '', 'address1': '500 Third St...       []  \n",
       "2  [{'description': '', 'address1': '10 Maguire R...       []  \n",
       "3  [{'description': None, 'address1': '8500 Utica...       []  \n",
       "4  [{'description': '', 'address1': 'One Franklin...       []  "
      ]
     },
     "execution_count": 7,
     "metadata": {},
     "output_type": "execute_result"
    }
   ],
   "source": [
    "'''\n",
    "En vista de lo anterior, es posible evidenciar 172 coincidencias con al menos una coincidencia con los tags de busqueda.\n",
    "Por lo anterior voy a revisar un poco mas a detalle las empresas que recibí.\n",
    "Voy a imprimir la siguiente información de uno por uno, hasta que yo desee detener el iterador.\n",
    "'''\n",
    "coincidencias.head()"
   ]
  },
  {
   "cell_type": "code",
   "execution_count": 8,
   "metadata": {},
   "outputs": [
    {
     "data": {
      "text/plain": [
       "'<p>Yelp (NYSE: YELP) connects people with great local businesses. Yelp was founded in San Francisco in July 2004. Since then, Yelp communities have taken root in major metros across the US, Canada, UK, Ireland, France, Germany, Austria, The Netherlands, Spain, Italy, Switzerland, Belgium, Australia, Sweden, Denmark, Norway, Finland, Singapore, Poland and Turkey. Yelp had a monthly average of 86 million unique visitors in Q4 2012*. By the end of Q4 2012, Yelpers had written more than 36 million rich, local reviews, making Yelp the leading local guide for real word-of-mouth on everything from boutiques and mechanics to restaurants and dentists. Yelp&#8217;s mobile application was used on 9.2 million unique mobile devices on a monthly average basis during Q4 2012. </p>'"
      ]
     },
     "execution_count": 8,
     "metadata": {},
     "output_type": "execute_result"
    }
   ],
   "source": [
    "coincidencias.iloc[0, 5]"
   ]
  },
  {
   "cell_type": "code",
   "execution_count": 9,
   "metadata": {},
   "outputs": [
    {
     "data": {
      "text/plain": [
       "array(['search', 'social', 'enterprise', 'ecommerce', 'web', 'automotive',\n",
       "       'finance', 'software', 'other', 'consulting', None, 'hardware',\n",
       "       'network_hosting', 'mobile', 'travel', 'games_video',\n",
       "       'advertising', 'semiconductor', 'public_relations', 'cleantech',\n",
       "       'biotech', 'education', 'manufacturing'], dtype=object)"
      ]
     },
     "execution_count": 9,
     "metadata": {},
     "output_type": "execute_result"
    }
   ],
   "source": [
    "'''\n",
    "Lo anterior es una clara evidencia de que exite mucha basura en la busqueda realizada. La primera coincidencia es \n",
    "una app que permite conectar a la gente con negocios locales, desde restaurantes hasta \"MECANICOS\".... es por ello\n",
    "que aparece como coincidencia.\n",
    "\n",
    "¿De que forma puedo filtrar esas coincidencias?\n",
    "\n",
    "Realizare filtrado por categoria, ya que muchas busquedas son de tecnologia, movil, etc.\n",
    "'''\n",
    "coincidencias[\"category_code\"].unique()"
   ]
  },
  {
   "cell_type": "code",
   "execution_count": 10,
   "metadata": {},
   "outputs": [],
   "source": [
    "coincidencias = coincidencias[\n",
    "    (coincidencias['category_code'] == 'automotive') |\n",
    "    (coincidencias['category_code'] == 'other') |\n",
    "    (coincidencias['category_code'] == 'manufacturing')\n",
    "]"
   ]
  },
  {
   "cell_type": "code",
   "execution_count": 11,
   "metadata": {},
   "outputs": [
    {
     "data": {
      "text/plain": [
       "(19, 9)"
      ]
     },
     "execution_count": 11,
     "metadata": {},
     "output_type": "execute_result"
    }
   ],
   "source": [
    "coincidencias.shape"
   ]
  },
  {
   "cell_type": "code",
   "execution_count": 12,
   "metadata": {},
   "outputs": [
    {
     "data": {
      "text/plain": [
       "'<p>Tesla Motors, founded by Elon Musk, Marc Tarpenning and Martin Eberhard,  is a company that produces a high-performance electric sports car, and is backed by a number of high-profile investors. Introduced in June 2006 to the public complete with a test drive by California Governor Arnold Schwarzenegger, the <a href=\"/product/tesla-roadster\" title=\"Tesla Roadster\" rel=\"nofollow\">Tesla Roadster</a> is able to go from 0 to 60 in less than 4 seconds (competitive with Porsche and Lamborghini models), while also delivering 100 miles per gallon (double the efficiency of the Toyota Prius). The car&#8217;s base price is around $100,000, and can be ordered <a href=\"http://www.teslamotors.com/own\" title=\"online\" rel=\"nofollow\">online</a>.</p>\\n\\n<p>Tesla&#8217;s investors include Silicon Valley luminaries like <a href=\"/company/paypal\" title=\"Paypal\" rel=\"nofollow\">Paypal</a> founder <a href=\"/person/elon-musk\" title=\"Elon Musk\" rel=\"nofollow\">Elon Musk</a> and <a href=\"/company/google\" title=\"Google\" rel=\"nofollow\">Google</a> co-founders <a href=\"/person/larry-page\" title=\"Larry Page\" rel=\"nofollow\">Larry Page</a> and <a href=\"/person/sergey-brin\" title=\"Sergey Brin\" rel=\"nofollow\">Sergey Brin</a>.</p>'"
      ]
     },
     "execution_count": 12,
     "metadata": {},
     "output_type": "execute_result"
    }
   ],
   "source": [
    "'''\n",
    "Los resultados a evaluar redujerón de 172 a 19. ¿Que hago?\n",
    "'''\n",
    "coincidencias.iloc[0, 5]"
   ]
  },
  {
   "cell_type": "code",
   "execution_count": 13,
   "metadata": {},
   "outputs": [
    {
     "data": {
      "text/plain": [
       "{'AUS', 'CAN', 'CHN', 'DEU', 'IND', 'USA'}"
      ]
     },
     "execution_count": 13,
     "metadata": {},
     "output_type": "execute_result"
    }
   ],
   "source": [
    "'''\n",
    "A pesar de que la primera referencia esta relacionada a la industria automotor, no es un resultado que esperadaba.\n",
    "Depronto una ciudad donde se encuentre Tesla puede haber interes por movilidad inteligente (?) Será que mi empresa\n",
    "se puede categoizar asi ?\n",
    "'''\n",
    "#Algunos minutos mas tarde...\n",
    "'''\n",
    "Resulta que he revisado las descripciones de todas las compañias filtradas pero ninguna se acerca al concepto que busca\n",
    "mi empresa.... algunas son de construcción de motores, partes de vehiculos, compra y venta de vehiculos usados y\n",
    "tecnologia (no se porque).\n",
    "\n",
    "Creo que esta base de datos no me sirve.\n",
    "'''\n",
    "\n",
    "#En vista de la pequeña cantidad, buscare en que paises estan hospedadas las empresas\n",
    "#coincidencias.iloc[:, 7][:][\"country_code\"]\n",
    "paises= set()\n",
    "for index in range(coincidencias.shape[0]):\n",
    "    for address in range(len(coincidencias.iloc[index, 7])):\n",
    "        paises.add(coincidencias.iloc[index, 7][address][\"country_code\"])\n",
    "        \n",
    "paises\n"
   ]
  },
  {
   "cell_type": "code",
   "execution_count": 14,
   "metadata": {},
   "outputs": [
    {
     "data": {
      "text/plain": [
       "'\\nJummmmmmmm, lo anterior fue solo para ver los paises en los que se distribuyen las 19 empresas filtradas.... pero no tengo competencia al parecer.\\n'"
      ]
     },
     "execution_count": 14,
     "metadata": {},
     "output_type": "execute_result"
    }
   ],
   "source": [
    "'''\n",
    "Jummmmmmmm, lo anterior fue solo para ver los paises en los que se distribuyen las 19 empresas filtradas.... pero no tengo competencia al parecer.\n",
    "'''"
   ]
  },
  {
   "cell_type": "code",
   "execution_count": 15,
   "metadata": {},
   "outputs": [],
   "source": [
    "top = 30"
   ]
  },
  {
   "cell_type": "code",
   "execution_count": 16,
   "metadata": {},
   "outputs": [
    {
     "data": {
      "text/plain": [
       "{'Australia',\n",
       " 'Austria',\n",
       " 'Belgium',\n",
       " 'Canada',\n",
       " 'Colombia',\n",
       " 'Czech Republic',\n",
       " 'Denmark',\n",
       " 'Ecuador',\n",
       " 'Eritrea',\n",
       " 'Estonia',\n",
       " 'France',\n",
       " 'Germany',\n",
       " 'Great Britain',\n",
       " 'Ireland',\n",
       " 'Italy',\n",
       " 'Kazakhstan',\n",
       " 'Latvia',\n",
       " 'Luxembourg',\n",
       " 'Netherlands',\n",
       " 'New Zealand',\n",
       " 'Norway',\n",
       " 'Poland',\n",
       " 'Portugal',\n",
       " 'Russia',\n",
       " 'Slovakia',\n",
       " 'Slovenia',\n",
       " 'South Africa',\n",
       " 'Spain',\n",
       " 'Switzerland',\n",
       " 'United States'}"
      ]
     },
     "execution_count": 16,
     "metadata": {},
     "output_type": "execute_result"
    }
   ],
   "source": [
    "#Voy a recopilar segun ranks, los top de paises que usan motos y ciclas\n",
    "paises_ciclas = set()\n",
    "\n",
    "URL = \"https://www.cyclingranking.com/countries/2020\"\n",
    "page = requests.get(URL)\n",
    "soup = BeautifulSoup(page.content, 'html.parser')\n",
    "tabla = soup.find_all(\"table\", class_=\"table table-striped\")[0]\n",
    "\n",
    "for resultado in tabla.find_all(\"a\")[:top]:\n",
    "    paises_ciclas.add(resultado.text)\n",
    "paises_ciclas"
   ]
  },
  {
   "cell_type": "code",
   "execution_count": 17,
   "metadata": {},
   "outputs": [
    {
     "data": {
      "text/plain": [
       "{'Argentia',\n",
       " 'Brazil',\n",
       " 'China',\n",
       " 'Colombia',\n",
       " 'Egypt',\n",
       " 'India',\n",
       " 'Indonesia',\n",
       " 'Italy',\n",
       " 'Malaysia',\n",
       " 'Nigeria',\n",
       " 'Pakistan',\n",
       " 'Philippines',\n",
       " 'Thailand',\n",
       " 'Tunisia',\n",
       " 'Vietnam'}"
      ]
     },
     "execution_count": 17,
     "metadata": {},
     "output_type": "execute_result"
    }
   ],
   "source": [
    "paises_motos = set()\n",
    "\n",
    "URL = \"https://www.worldatlas.com/articles/countries-that-ride-motorbikes.html\"\n",
    "page = requests.get(URL)\n",
    "soup = BeautifulSoup(page.content, 'html.parser')\n",
    "tabla = (soup.find_all(\"tbody\")[0]).find_all(\"tr\")\n",
    "\n",
    "for resultado in tabla[:top]:\n",
    "    paises_motos.add((resultado.find_all(\"td\")[1]).text)\n",
    "paises_motos"
   ]
  },
  {
   "cell_type": "code",
   "execution_count": 18,
   "metadata": {},
   "outputs": [
    {
     "data": {
      "text/plain": [
       "{'Colombia', 'Italy'}"
      ]
     },
     "execution_count": 18,
     "metadata": {},
     "output_type": "execute_result"
    }
   ],
   "source": [
    "paises_coincidentes = paises_ciclas & paises_motos\n",
    "paises_coincidentes"
   ]
  },
  {
   "cell_type": "code",
   "execution_count": 19,
   "metadata": {},
   "outputs": [],
   "source": [
    "'''\n",
    "Colombia e italia son los dos paises que estan en el top de paises donde\n",
    "la población utiliza moto y bicicleta para movilizarse en la ciudad.\n",
    "\n",
    "Pensaba elegir algún lugar en Bogotá y Roma para posicionar mi proyecto.\n",
    "\n",
    "Pero ahora pienso filtrar cuales son las empresas con mas empleados y validar la coincidencia que\n",
    "pueda existir entre los paises. Dado este resultado me decidire por los lugares con mas empleados\n",
    "o uno de los paises con mas ciclistas y motoclistas del mundo.\n",
    "'''\n",
    "\n",
    "filter={'number_of_employees': {'$gte': 0 }}\n",
    "project={\n",
    "    '_id': 0, \n",
    "    'number_of_employees': 1, \n",
    "    'offices.city': 1\n",
    "}\n",
    "sort=list({\n",
    "    'number_of_employees': -1\n",
    "}.items())\n",
    "\n",
    "ord_by_employees = companies_collection.find(\n",
    "  filter=filter,\n",
    "  projection=project,\n",
    "  sort=sort\n",
    ")\n",
    "\n",
    "coincidencias_2 = pd.DataFrame(list(ord_by_employees))"
   ]
  },
  {
   "cell_type": "code",
   "execution_count": 20,
   "metadata": {},
   "outputs": [
    {
     "data": {
      "text/plain": [
       "<bound method DataFrame.info of       number_of_employees                                        offices\n",
       "0                  405000                           [{'city': 'Munich'}]\n",
       "1                  388000                           [{'city': 'Armonk'}]\n",
       "2                  320000                            [{'city': 'Aichi'}]\n",
       "3                  300000                         [{'city': 'San Jose'}]\n",
       "4                  227000                            [{'city': 'Tokyo'}]\n",
       "...                   ...                                            ...\n",
       "8884                    0                        [{'city': 'Ann Arbor'}]\n",
       "8885                    0                                             []\n",
       "8886                    0                                             []\n",
       "8887                    0  [{'city': 'Gainesville'}, {'city': 'Naples'}]\n",
       "8888                    0                          [{'city': 'Brewood'}]\n",
       "\n",
       "[8889 rows x 2 columns]>"
      ]
     },
     "execution_count": 20,
     "metadata": {},
     "output_type": "execute_result"
    }
   ],
   "source": [
    "coincidencias_2.info"
   ]
  },
  {
   "cell_type": "code",
   "execution_count": 21,
   "metadata": {},
   "outputs": [
    {
     "data": {
      "text/plain": [
       "Index(['number_of_employees', 'offices'], dtype='object')"
      ]
     },
     "execution_count": 21,
     "metadata": {},
     "output_type": "execute_result"
    }
   ],
   "source": [
    "coincidencias_2.columns"
   ]
  },
  {
   "cell_type": "code",
   "execution_count": 22,
   "metadata": {},
   "outputs": [
    {
     "data": {
      "text/plain": [
       "'Gainesville'"
      ]
     },
     "execution_count": 22,
     "metadata": {},
     "output_type": "execute_result"
    }
   ],
   "source": [
    "list((coincidencias_2.iloc[8887,1][0]).values())[0]"
   ]
  },
  {
   "cell_type": "code",
   "execution_count": 23,
   "metadata": {},
   "outputs": [
    {
     "data": {
      "text/html": [
       "<div>\n",
       "<style scoped>\n",
       "    .dataframe tbody tr th:only-of-type {\n",
       "        vertical-align: middle;\n",
       "    }\n",
       "\n",
       "    .dataframe tbody tr th {\n",
       "        vertical-align: top;\n",
       "    }\n",
       "\n",
       "    .dataframe thead th {\n",
       "        text-align: right;\n",
       "    }\n",
       "</style>\n",
       "<table border=\"1\" class=\"dataframe\">\n",
       "  <thead>\n",
       "    <tr style=\"text-align: right;\">\n",
       "      <th></th>\n",
       "      <th>0</th>\n",
       "      <th>1</th>\n",
       "    </tr>\n",
       "  </thead>\n",
       "  <tbody>\n",
       "    <tr>\n",
       "      <th>0</th>\n",
       "      <td>Munich</td>\n",
       "      <td>405000</td>\n",
       "    </tr>\n",
       "    <tr>\n",
       "      <th>1</th>\n",
       "      <td>Armonk</td>\n",
       "      <td>388000</td>\n",
       "    </tr>\n",
       "    <tr>\n",
       "      <th>2</th>\n",
       "      <td>Aichi</td>\n",
       "      <td>320000</td>\n",
       "    </tr>\n",
       "    <tr>\n",
       "      <th>3</th>\n",
       "      <td>San Jose</td>\n",
       "      <td>300000</td>\n",
       "    </tr>\n",
       "    <tr>\n",
       "      <th>4</th>\n",
       "      <td>Tokyo</td>\n",
       "      <td>227000</td>\n",
       "    </tr>\n",
       "  </tbody>\n",
       "</table>\n",
       "</div>"
      ],
      "text/plain": [
       "          0       1\n",
       "0    Munich  405000\n",
       "1    Armonk  388000\n",
       "2     Aichi  320000\n",
       "3  San Jose  300000\n",
       "4     Tokyo  227000"
      ]
     },
     "execution_count": 23,
     "metadata": {},
     "output_type": "execute_result"
    }
   ],
   "source": [
    "new_list = list()\n",
    "min_employees = 25\n",
    "\n",
    "for index in range(len(coincidencias_2)):\n",
    "    cities_array = []\n",
    "    \n",
    "    \n",
    "    for city_array in coincidencias_2.iloc[index,1]:\n",
    "        city = list(city_array.values())[0]\n",
    "        if city != \"\":\n",
    "            cities_array.append(city)\n",
    "            \n",
    "    \n",
    "    if len(cities_array) <= 0 or coincidencias_2.iloc[index,0] <= min_employees:\n",
    "        continue\n",
    "    \n",
    "    \n",
    "    number_cities = len(cities_array)\n",
    "    employees =  int(math.floor(coincidencias_2.iloc[index,0] / number_cities))\n",
    "        \n",
    "    for single_city in range(number_cities):\n",
    "        argument = [cities_array[single_city], employees]\n",
    "        new_list.append(argument)\n",
    "        \n",
    "        \n",
    "df = pd.DataFrame(new_list)\n",
    "df.head()"
   ]
  },
  {
   "cell_type": "code",
   "execution_count": 24,
   "metadata": {},
   "outputs": [
    {
     "data": {
      "text/plain": [
       "RangeIndex(start=0, stop=2, step=1)"
      ]
     },
     "execution_count": 24,
     "metadata": {},
     "output_type": "execute_result"
    }
   ],
   "source": [
    "df.columns"
   ]
  },
  {
   "cell_type": "code",
   "execution_count": 25,
   "metadata": {},
   "outputs": [
    {
     "data": {
      "text/html": [
       "<div>\n",
       "<style scoped>\n",
       "    .dataframe tbody tr th:only-of-type {\n",
       "        vertical-align: middle;\n",
       "    }\n",
       "\n",
       "    .dataframe tbody tr th {\n",
       "        vertical-align: top;\n",
       "    }\n",
       "\n",
       "    .dataframe thead th {\n",
       "        text-align: right;\n",
       "    }\n",
       "</style>\n",
       "<table border=\"1\" class=\"dataframe\">\n",
       "  <thead>\n",
       "    <tr style=\"text-align: right;\">\n",
       "      <th></th>\n",
       "      <th>country</th>\n",
       "      <th>empleados</th>\n",
       "    </tr>\n",
       "  </thead>\n",
       "  <tbody>\n",
       "    <tr>\n",
       "      <th>0</th>\n",
       "      <td>Munich</td>\n",
       "      <td>405000</td>\n",
       "    </tr>\n",
       "    <tr>\n",
       "      <th>1</th>\n",
       "      <td>Armonk</td>\n",
       "      <td>388000</td>\n",
       "    </tr>\n",
       "    <tr>\n",
       "      <th>2</th>\n",
       "      <td>Aichi</td>\n",
       "      <td>320000</td>\n",
       "    </tr>\n",
       "    <tr>\n",
       "      <th>3</th>\n",
       "      <td>San Jose</td>\n",
       "      <td>300000</td>\n",
       "    </tr>\n",
       "    <tr>\n",
       "      <th>4</th>\n",
       "      <td>Tokyo</td>\n",
       "      <td>227000</td>\n",
       "    </tr>\n",
       "  </tbody>\n",
       "</table>\n",
       "</div>"
      ],
      "text/plain": [
       "    country  empleados\n",
       "0    Munich     405000\n",
       "1    Armonk     388000\n",
       "2     Aichi     320000\n",
       "3  San Jose     300000\n",
       "4     Tokyo     227000"
      ]
     },
     "execution_count": 25,
     "metadata": {},
     "output_type": "execute_result"
    }
   ],
   "source": [
    "df= df.rename(columns={0:\"country\", 1:\"empleados\"})\n",
    "df.head()"
   ]
  },
  {
   "cell_type": "code",
   "execution_count": 26,
   "metadata": {},
   "outputs": [],
   "source": [
    "#Ya tengo filtrado el listado de paises por número total de empleados según la BD\n",
    "employees_cities = pd.pivot_table(df, index='country', values='empleados', aggfunc= np.sum)\n",
    "employees_cities = employees_cities.sort_values(by=\"empleados\", ascending=False)"
   ]
  },
  {
   "cell_type": "code",
   "execution_count": 27,
   "metadata": {},
   "outputs": [
    {
     "data": {
      "text/html": [
       "<div>\n",
       "<style scoped>\n",
       "    .dataframe tbody tr th:only-of-type {\n",
       "        vertical-align: middle;\n",
       "    }\n",
       "\n",
       "    .dataframe tbody tr th {\n",
       "        vertical-align: top;\n",
       "    }\n",
       "\n",
       "    .dataframe thead th {\n",
       "        text-align: right;\n",
       "    }\n",
       "</style>\n",
       "<table border=\"1\" class=\"dataframe\">\n",
       "  <thead>\n",
       "    <tr style=\"text-align: right;\">\n",
       "      <th></th>\n",
       "      <th>empleados</th>\n",
       "    </tr>\n",
       "    <tr>\n",
       "      <th>country</th>\n",
       "      <th></th>\n",
       "    </tr>\n",
       "  </thead>\n",
       "  <tbody>\n",
       "    <tr>\n",
       "      <th>Tokyo</th>\n",
       "      <td>514178</td>\n",
       "    </tr>\n",
       "    <tr>\n",
       "      <th>San Jose</th>\n",
       "      <td>499412</td>\n",
       "    </tr>\n",
       "    <tr>\n",
       "      <th>Munich</th>\n",
       "      <td>405426</td>\n",
       "    </tr>\n",
       "    <tr>\n",
       "      <th>Armonk</th>\n",
       "      <td>388000</td>\n",
       "    </tr>\n",
       "    <tr>\n",
       "      <th>Aichi</th>\n",
       "      <td>320000</td>\n",
       "    </tr>\n",
       "    <tr>\n",
       "      <th>Falls Church</th>\n",
       "      <td>272940</td>\n",
       "    </tr>\n",
       "    <tr>\n",
       "      <th>San Diego</th>\n",
       "      <td>240676</td>\n",
       "    </tr>\n",
       "    <tr>\n",
       "      <th>New York</th>\n",
       "      <td>199233</td>\n",
       "    </tr>\n",
       "    <tr>\n",
       "      <th>Pleasanton</th>\n",
       "      <td>191019</td>\n",
       "    </tr>\n",
       "    <tr>\n",
       "      <th>Seoul</th>\n",
       "      <td>177919</td>\n",
       "    </tr>\n",
       "  </tbody>\n",
       "</table>\n",
       "</div>"
      ],
      "text/plain": [
       "              empleados\n",
       "country                \n",
       "Tokyo            514178\n",
       "San Jose         499412\n",
       "Munich           405426\n",
       "Armonk           388000\n",
       "Aichi            320000\n",
       "Falls Church     272940\n",
       "San Diego        240676\n",
       "New York         199233\n",
       "Pleasanton       191019\n",
       "Seoul            177919"
      ]
     },
     "execution_count": 27,
     "metadata": {},
     "output_type": "execute_result"
    }
   ],
   "source": [
    "employees_cities.head(10)"
   ]
  },
  {
   "cell_type": "code",
   "execution_count": 28,
   "metadata": {},
   "outputs": [
    {
     "data": {
      "text/plain": [
       "{'Aichi',\n",
       " 'Armonk',\n",
       " 'Atlanta',\n",
       " 'Cambridge',\n",
       " 'Chicago',\n",
       " 'Cupertino',\n",
       " 'Dallas',\n",
       " 'Dearborn',\n",
       " 'Falls Church',\n",
       " 'Gütersloh',\n",
       " 'Hyderabad',\n",
       " 'Irving',\n",
       " 'London',\n",
       " 'Maynard',\n",
       " 'Montreal',\n",
       " 'Mumbai',\n",
       " 'Munich',\n",
       " 'New York',\n",
       " 'Ontario',\n",
       " 'Paris',\n",
       " 'Philadelphia',\n",
       " 'Pleasanton',\n",
       " 'Round Rock',\n",
       " 'San Diego',\n",
       " 'San Jose',\n",
       " 'Santa Clara',\n",
       " 'Seoul',\n",
       " 'Singapore',\n",
       " 'St Paul',\n",
       " 'Tokyo'}"
      ]
     },
     "execution_count": 28,
     "metadata": {},
     "output_type": "execute_result"
    }
   ],
   "source": [
    "#Transformo el listado a un set en que utilizo el número top para limitar el set\n",
    "cities_by_employees = set(employees_cities.index[:top])\n",
    "cities_by_employees"
   ]
  },
  {
   "cell_type": "code",
   "execution_count": 29,
   "metadata": {},
   "outputs": [
    {
     "data": {
      "text/plain": [
       "{'Amsterdam',\n",
       " 'Antwerp',\n",
       " 'Berlin',\n",
       " 'Bern',\n",
       " 'Bordeaux',\n",
       " 'Bremen',\n",
       " 'Bristol',\n",
       " 'Copenhagen',\n",
       " 'Hamburg',\n",
       " 'Hangzhou',\n",
       " 'Hannover',\n",
       " 'Innsbruck',\n",
       " 'Leipzig',\n",
       " 'Malmo',\n",
       " 'Melbourne',\n",
       " 'Montreal',\n",
       " 'Munster',\n",
       " 'Nuremberg',\n",
       " 'Strasbourg',\n",
       " 'Utrecht'}"
      ]
     },
     "execution_count": 29,
     "metadata": {},
     "output_type": "execute_result"
    }
   ],
   "source": [
    "#Voy a recopilar segun ranks, los top de ciudades que usan motos y ciclas\n",
    "cities_by_bikes = set()\n",
    "\n",
    "URL = \"https://www.coya.com/bike/index-2019\"\n",
    "page = requests.get(URL)\n",
    "soup = BeautifulSoup(page.content, 'html.parser')\n",
    "tabla = soup.find_all(\"div\", class_=\"bike-collection-item w-dyn-item\")\n",
    "\n",
    "for resultado in tabla[:top]:\n",
    "    city = resultado.find(\"div\", class_=\"td big\").text\n",
    "    cities_by_bikes.add(city)\n",
    "    \n",
    "cities_by_bikes"
   ]
  },
  {
   "cell_type": "code",
   "execution_count": 30,
   "metadata": {},
   "outputs": [
    {
     "data": {
      "text/plain": [
       "{'Montreal'}"
      ]
     },
     "execution_count": 30,
     "metadata": {},
     "output_type": "execute_result"
    }
   ],
   "source": [
    "'''\n",
    "Dado el top 20 de ciudades con mayor número de empleados según la BDs\n",
    "y dado el top 20 de ciudades en donde las personas se movilizan en ciclas,\n",
    "\n",
    "La única ciudad coincidente por números es Montreal para montar la empresa\n",
    "planteada para el proyecto.\n",
    "\n",
    "Hay una cosa que honestamente no me hace sentido y es la prohibicion para usar\n",
    "bicicletas y motos en el pais la mitad del año. \n",
    "'''\n",
    "\n",
    "target_cities = cities_by_bikes & cities_by_employees\n",
    "target_cities"
   ]
  },
  {
   "cell_type": "code",
   "execution_count": null,
   "metadata": {},
   "outputs": [],
   "source": [
    "''"
   ]
  }
 ],
 "metadata": {
  "kernelspec": {
   "display_name": "Python 3",
   "language": "python",
   "name": "python3"
  },
  "language_info": {
   "codemirror_mode": {
    "name": "ipython",
    "version": 3
   },
   "file_extension": ".py",
   "mimetype": "text/x-python",
   "name": "python",
   "nbconvert_exporter": "python",
   "pygments_lexer": "ipython3",
   "version": "3.8.3"
  }
 },
 "nbformat": 4,
 "nbformat_minor": 4
}
